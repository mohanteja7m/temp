{
  "nbformat": 4,
  "nbformat_minor": 0,
  "metadata": {
    "colab": {
      "provenance": []
    },
    "kernelspec": {
      "name": "python3",
      "display_name": "Python 3"
    },
    "language_info": {
      "name": "python"
    }
  },
  "cells": [
    {
      "cell_type": "code",
      "execution_count": 1,
      "metadata": {
        "id": "Oj9DQsXAqPxL"
      },
      "outputs": [],
      "source": [
        "import pandas as pd\n",
        "import numpy as np"
      ]
    },
    {
      "cell_type": "code",
      "source": [
        "df = pd.read_csv ('https://github.com/YBI-Foundation/Dataset/raw/main/Financial%20Market%20News.csv',encoding = \"ISO-8859-1\")"
      ],
      "metadata": {
        "id": "NojfUMQ6rOvH"
      },
      "execution_count": 2,
      "outputs": []
    },
    {
      "cell_type": "code",
      "source": [
        "df.head()"
      ],
      "metadata": {
        "colab": {
          "base_uri": "https://localhost:8080/",
          "height": 687
        },
        "id": "9O6k3DOutMz7",
        "outputId": "09fc0dfd-ee86-4298-bd7a-fc7b19b9f6d1"
      },
      "execution_count": 3,
      "outputs": [
        {
          "output_type": "execute_result",
          "data": {
            "text/plain": [
              "         Date  Label                                             News 1  \\\n",
              "0  01-01-2010      0           McIlroy's men catch cold from Gudjonsson   \n",
              "1  02-01-2010      0               Warning from history points to crash   \n",
              "2  03-01-2010      0      Comment: Why Israel's peaceniks feel betrayed   \n",
              "3  04-01-2010      1             £750,000-a-goal Weah aims parting shot   \n",
              "4  05-01-2010      1  Leeds arrive in Turkey to the silence of the fans   \n",
              "\n",
              "                                       News 2  \\\n",
              "0                       Obituary: Brian Walsh   \n",
              "1              Investors flee to dollar haven   \n",
              "2  Court deals blow to seizure of drug assets   \n",
              "3            Newcastle pay for Fletcher years   \n",
              "4     One woman's vision offers loan lifeline   \n",
              "\n",
              "                                            News 3  \\\n",
              "0       Workplace blues leave employers in the red   \n",
              "1                      Banks and tobacco in favour   \n",
              "2                       An ideal target for spooks   \n",
              "3  Brown sent to the stands for Scotland qualifier   \n",
              "4          Working Lives: How world leaders worked   \n",
              "\n",
              "                                        News 4  \\\n",
              "0                     Classical review: Rattle   \n",
              "1                        Review: Llama Farmers   \n",
              "2  World steps between two sides intent on war   \n",
              "3         Tourists wary of breaking new ground   \n",
              "4           Working Lives: Tricks of the trade   \n",
              "\n",
              "                                              News 5  \\\n",
              "0                     Dance review: Merce Cunningham   \n",
              "1                       War jitters lead to sell-off   \n",
              "2                       What the region's papers say   \n",
              "3              Canary Wharf climbs into the FTSE 100   \n",
              "4  Working Lives: six-hour days, long lunches and...   \n",
              "\n",
              "                                         News 6  \\\n",
              "0  Genetic tests to be used in setting premiums   \n",
              "1                    Your not-so-secret history   \n",
              "2           Comment: Fear and rage in Palestine   \n",
              "3                           Review: Bill Bailey   \n",
              "4                        Pop review: We Love UK   \n",
              "\n",
              "                                          News 7  \\\n",
              "0                        Opera review: La Bohème   \n",
              "1                  Review: The Northern Sinfonia   \n",
              "2  Poverty and resentment fuels Palestinian fury   \n",
              "3                              Review: Classical   \n",
              "4               World music review: Marisa Monte   \n",
              "\n",
              "                                        News 8  ...  \\\n",
              "0                   Pop review: Britney Spears  ...   \n",
              "1                             Review: Hysteria  ...   \n",
              "2  Republican feud fear as dissident is killed  ...   \n",
              "3              Review: New Contemporaries 2000  ...   \n",
              "4             Art review:  Hollingsworth/Heyer  ...   \n",
              "\n",
              "                                News 16                              News 17  \\\n",
              "0                 Finland 0 - 0 England                   Healy a marked man   \n",
              "1  Why Wenger will stick to his Gunners  Out of luck England hit rock bottom   \n",
              "2             FTSE goes upwardly mobile             At this price?  BP Amoco   \n",
              "3         More cash on way for counties      Cairns carries Kiwis to victory   \n",
              "4          Duisenberg in double trouble           Pru to cut pension charges   \n",
              "\n",
              "                                             News 18  \\\n",
              "0                     Happy birthday Harpers & Queen   \n",
              "1                         Wilkinson out of his depth   \n",
              "2                                            Go fish   \n",
              "3  Year of Blanchflower's flourish when Spurs sto...   \n",
              "4                            Art review: Paul Graham   \n",
              "\n",
              "                                             News 19  \\\n",
              "0  Win unlimited access to the Raindance film fes...   \n",
              "1                   Kinsella sparks Irish power play   \n",
              "2         Bosnian Serb blows himself up to evade law   \n",
              "3      New direct approach brings only pay-per-blues   \n",
              "4               Shearer shot sparks Boro humiliation   \n",
              "\n",
              "                                             News 20  \\\n",
              "0  Labour pledges £800m to bridge north-south divide   \n",
              "1                    Brown banished as Scots rebound   \n",
              "2                       Orange float delayed to 2001   \n",
              "3                           Third Division  round-up   \n",
              "4  Ridsdale's lingering fears as Leeds revisit Tu...   \n",
              "\n",
              "                                             News 21  \\\n",
              "0       Wales: Lib-Lab pact firm despite resignation   \n",
              "1                   Battling Wales cling to lifeline   \n",
              "2  Angry factory workers root out fear, favours a...   \n",
              "3                          Second Division  round-up   \n",
              "4            Champions League: Rangers v Galatasaray   \n",
              "\n",
              "                              News 22  \\\n",
              "0                        Donald Dewar   \n",
              "1   Ehiogu close to sealing Boro move   \n",
              "2  Smith defied advice on dome payout   \n",
              "3            First Division  round-up   \n",
              "4   Champions League: Lazio v Arsenal   \n",
              "\n",
              "                                             News 23  \\\n",
              "0  Regenerating homes  regenerates well-being in ...   \n",
              "1                                 Man-to-man marking   \n",
              "2                        Xerox takes the axe to jobs   \n",
              "3                McLean ends his career with a punch   \n",
              "4                                Lazio 1 - 1 Arsenal   \n",
              "\n",
              "                        News 24  \\\n",
              "0   Win £100 worth of underwear   \n",
              "1                   Match stats   \n",
              "2  Comment: Refugees in Britain   \n",
              "3     Heskey grabs triple crown   \n",
              "4           England in Pakistan   \n",
              "\n",
              "                                             News 25  \n",
              "0                             TV guide: Random views  \n",
              "1  French referee at centre of storm is no strang...  \n",
              "2              Maverick who sparked the new intifada  \n",
              "3                   Weah on his way as City march on  \n",
              "4               England given olive-branch reception  \n",
              "\n",
              "[5 rows x 27 columns]"
            ],
            "text/html": [
              "\n",
              "  <div id=\"df-352113c2-4bb7-477a-88c9-765d06f31f3b\" class=\"colab-df-container\">\n",
              "    <div>\n",
              "<style scoped>\n",
              "    .dataframe tbody tr th:only-of-type {\n",
              "        vertical-align: middle;\n",
              "    }\n",
              "\n",
              "    .dataframe tbody tr th {\n",
              "        vertical-align: top;\n",
              "    }\n",
              "\n",
              "    .dataframe thead th {\n",
              "        text-align: right;\n",
              "    }\n",
              "</style>\n",
              "<table border=\"1\" class=\"dataframe\">\n",
              "  <thead>\n",
              "    <tr style=\"text-align: right;\">\n",
              "      <th></th>\n",
              "      <th>Date</th>\n",
              "      <th>Label</th>\n",
              "      <th>News 1</th>\n",
              "      <th>News 2</th>\n",
              "      <th>News 3</th>\n",
              "      <th>News 4</th>\n",
              "      <th>News 5</th>\n",
              "      <th>News 6</th>\n",
              "      <th>News 7</th>\n",
              "      <th>News 8</th>\n",
              "      <th>...</th>\n",
              "      <th>News 16</th>\n",
              "      <th>News 17</th>\n",
              "      <th>News 18</th>\n",
              "      <th>News 19</th>\n",
              "      <th>News 20</th>\n",
              "      <th>News 21</th>\n",
              "      <th>News 22</th>\n",
              "      <th>News 23</th>\n",
              "      <th>News 24</th>\n",
              "      <th>News 25</th>\n",
              "    </tr>\n",
              "  </thead>\n",
              "  <tbody>\n",
              "    <tr>\n",
              "      <th>0</th>\n",
              "      <td>01-01-2010</td>\n",
              "      <td>0</td>\n",
              "      <td>McIlroy's men catch cold from Gudjonsson</td>\n",
              "      <td>Obituary: Brian Walsh</td>\n",
              "      <td>Workplace blues leave employers in the red</td>\n",
              "      <td>Classical review: Rattle</td>\n",
              "      <td>Dance review: Merce Cunningham</td>\n",
              "      <td>Genetic tests to be used in setting premiums</td>\n",
              "      <td>Opera review: La Bohème</td>\n",
              "      <td>Pop review: Britney Spears</td>\n",
              "      <td>...</td>\n",
              "      <td>Finland 0 - 0 England</td>\n",
              "      <td>Healy a marked man</td>\n",
              "      <td>Happy birthday Harpers &amp; Queen</td>\n",
              "      <td>Win unlimited access to the Raindance film fes...</td>\n",
              "      <td>Labour pledges £800m to bridge north-south divide</td>\n",
              "      <td>Wales: Lib-Lab pact firm despite resignation</td>\n",
              "      <td>Donald Dewar</td>\n",
              "      <td>Regenerating homes  regenerates well-being in ...</td>\n",
              "      <td>Win £100 worth of underwear</td>\n",
              "      <td>TV guide: Random views</td>\n",
              "    </tr>\n",
              "    <tr>\n",
              "      <th>1</th>\n",
              "      <td>02-01-2010</td>\n",
              "      <td>0</td>\n",
              "      <td>Warning from history points to crash</td>\n",
              "      <td>Investors flee to dollar haven</td>\n",
              "      <td>Banks and tobacco in favour</td>\n",
              "      <td>Review: Llama Farmers</td>\n",
              "      <td>War jitters lead to sell-off</td>\n",
              "      <td>Your not-so-secret history</td>\n",
              "      <td>Review: The Northern Sinfonia</td>\n",
              "      <td>Review: Hysteria</td>\n",
              "      <td>...</td>\n",
              "      <td>Why Wenger will stick to his Gunners</td>\n",
              "      <td>Out of luck England hit rock bottom</td>\n",
              "      <td>Wilkinson out of his depth</td>\n",
              "      <td>Kinsella sparks Irish power play</td>\n",
              "      <td>Brown banished as Scots rebound</td>\n",
              "      <td>Battling Wales cling to lifeline</td>\n",
              "      <td>Ehiogu close to sealing Boro move</td>\n",
              "      <td>Man-to-man marking</td>\n",
              "      <td>Match stats</td>\n",
              "      <td>French referee at centre of storm is no strang...</td>\n",
              "    </tr>\n",
              "    <tr>\n",
              "      <th>2</th>\n",
              "      <td>03-01-2010</td>\n",
              "      <td>0</td>\n",
              "      <td>Comment: Why Israel's peaceniks feel betrayed</td>\n",
              "      <td>Court deals blow to seizure of drug assets</td>\n",
              "      <td>An ideal target for spooks</td>\n",
              "      <td>World steps between two sides intent on war</td>\n",
              "      <td>What the region's papers say</td>\n",
              "      <td>Comment: Fear and rage in Palestine</td>\n",
              "      <td>Poverty and resentment fuels Palestinian fury</td>\n",
              "      <td>Republican feud fear as dissident is killed</td>\n",
              "      <td>...</td>\n",
              "      <td>FTSE goes upwardly mobile</td>\n",
              "      <td>At this price?  BP Amoco</td>\n",
              "      <td>Go fish</td>\n",
              "      <td>Bosnian Serb blows himself up to evade law</td>\n",
              "      <td>Orange float delayed to 2001</td>\n",
              "      <td>Angry factory workers root out fear, favours a...</td>\n",
              "      <td>Smith defied advice on dome payout</td>\n",
              "      <td>Xerox takes the axe to jobs</td>\n",
              "      <td>Comment: Refugees in Britain</td>\n",
              "      <td>Maverick who sparked the new intifada</td>\n",
              "    </tr>\n",
              "    <tr>\n",
              "      <th>3</th>\n",
              "      <td>04-01-2010</td>\n",
              "      <td>1</td>\n",
              "      <td>£750,000-a-goal Weah aims parting shot</td>\n",
              "      <td>Newcastle pay for Fletcher years</td>\n",
              "      <td>Brown sent to the stands for Scotland qualifier</td>\n",
              "      <td>Tourists wary of breaking new ground</td>\n",
              "      <td>Canary Wharf climbs into the FTSE 100</td>\n",
              "      <td>Review: Bill Bailey</td>\n",
              "      <td>Review: Classical</td>\n",
              "      <td>Review: New Contemporaries 2000</td>\n",
              "      <td>...</td>\n",
              "      <td>More cash on way for counties</td>\n",
              "      <td>Cairns carries Kiwis to victory</td>\n",
              "      <td>Year of Blanchflower's flourish when Spurs sto...</td>\n",
              "      <td>New direct approach brings only pay-per-blues</td>\n",
              "      <td>Third Division  round-up</td>\n",
              "      <td>Second Division  round-up</td>\n",
              "      <td>First Division  round-up</td>\n",
              "      <td>McLean ends his career with a punch</td>\n",
              "      <td>Heskey grabs triple crown</td>\n",
              "      <td>Weah on his way as City march on</td>\n",
              "    </tr>\n",
              "    <tr>\n",
              "      <th>4</th>\n",
              "      <td>05-01-2010</td>\n",
              "      <td>1</td>\n",
              "      <td>Leeds arrive in Turkey to the silence of the fans</td>\n",
              "      <td>One woman's vision offers loan lifeline</td>\n",
              "      <td>Working Lives: How world leaders worked</td>\n",
              "      <td>Working Lives: Tricks of the trade</td>\n",
              "      <td>Working Lives: six-hour days, long lunches and...</td>\n",
              "      <td>Pop review: We Love UK</td>\n",
              "      <td>World music review: Marisa Monte</td>\n",
              "      <td>Art review:  Hollingsworth/Heyer</td>\n",
              "      <td>...</td>\n",
              "      <td>Duisenberg in double trouble</td>\n",
              "      <td>Pru to cut pension charges</td>\n",
              "      <td>Art review: Paul Graham</td>\n",
              "      <td>Shearer shot sparks Boro humiliation</td>\n",
              "      <td>Ridsdale's lingering fears as Leeds revisit Tu...</td>\n",
              "      <td>Champions League: Rangers v Galatasaray</td>\n",
              "      <td>Champions League: Lazio v Arsenal</td>\n",
              "      <td>Lazio 1 - 1 Arsenal</td>\n",
              "      <td>England in Pakistan</td>\n",
              "      <td>England given olive-branch reception</td>\n",
              "    </tr>\n",
              "  </tbody>\n",
              "</table>\n",
              "<p>5 rows × 27 columns</p>\n",
              "</div>\n",
              "    <div class=\"colab-df-buttons\">\n",
              "\n",
              "  <div class=\"colab-df-container\">\n",
              "    <button class=\"colab-df-convert\" onclick=\"convertToInteractive('df-352113c2-4bb7-477a-88c9-765d06f31f3b')\"\n",
              "            title=\"Convert this dataframe to an interactive table.\"\n",
              "            style=\"display:none;\">\n",
              "\n",
              "  <svg xmlns=\"http://www.w3.org/2000/svg\" height=\"24px\" viewBox=\"0 -960 960 960\">\n",
              "    <path d=\"M120-120v-720h720v720H120Zm60-500h600v-160H180v160Zm220 220h160v-160H400v160Zm0 220h160v-160H400v160ZM180-400h160v-160H180v160Zm440 0h160v-160H620v160ZM180-180h160v-160H180v160Zm440 0h160v-160H620v160Z\"/>\n",
              "  </svg>\n",
              "    </button>\n",
              "\n",
              "  <style>\n",
              "    .colab-df-container {\n",
              "      display:flex;\n",
              "      gap: 12px;\n",
              "    }\n",
              "\n",
              "    .colab-df-convert {\n",
              "      background-color: #E8F0FE;\n",
              "      border: none;\n",
              "      border-radius: 50%;\n",
              "      cursor: pointer;\n",
              "      display: none;\n",
              "      fill: #1967D2;\n",
              "      height: 32px;\n",
              "      padding: 0 0 0 0;\n",
              "      width: 32px;\n",
              "    }\n",
              "\n",
              "    .colab-df-convert:hover {\n",
              "      background-color: #E2EBFA;\n",
              "      box-shadow: 0px 1px 2px rgba(60, 64, 67, 0.3), 0px 1px 3px 1px rgba(60, 64, 67, 0.15);\n",
              "      fill: #174EA6;\n",
              "    }\n",
              "\n",
              "    .colab-df-buttons div {\n",
              "      margin-bottom: 4px;\n",
              "    }\n",
              "\n",
              "    [theme=dark] .colab-df-convert {\n",
              "      background-color: #3B4455;\n",
              "      fill: #D2E3FC;\n",
              "    }\n",
              "\n",
              "    [theme=dark] .colab-df-convert:hover {\n",
              "      background-color: #434B5C;\n",
              "      box-shadow: 0px 1px 3px 1px rgba(0, 0, 0, 0.15);\n",
              "      filter: drop-shadow(0px 1px 2px rgba(0, 0, 0, 0.3));\n",
              "      fill: #FFFFFF;\n",
              "    }\n",
              "  </style>\n",
              "\n",
              "    <script>\n",
              "      const buttonEl =\n",
              "        document.querySelector('#df-352113c2-4bb7-477a-88c9-765d06f31f3b button.colab-df-convert');\n",
              "      buttonEl.style.display =\n",
              "        google.colab.kernel.accessAllowed ? 'block' : 'none';\n",
              "\n",
              "      async function convertToInteractive(key) {\n",
              "        const element = document.querySelector('#df-352113c2-4bb7-477a-88c9-765d06f31f3b');\n",
              "        const dataTable =\n",
              "          await google.colab.kernel.invokeFunction('convertToInteractive',\n",
              "                                                    [key], {});\n",
              "        if (!dataTable) return;\n",
              "\n",
              "        const docLinkHtml = 'Like what you see? Visit the ' +\n",
              "          '<a target=\"_blank\" href=https://colab.research.google.com/notebooks/data_table.ipynb>data table notebook</a>'\n",
              "          + ' to learn more about interactive tables.';\n",
              "        element.innerHTML = '';\n",
              "        dataTable['output_type'] = 'display_data';\n",
              "        await google.colab.output.renderOutput(dataTable, element);\n",
              "        const docLink = document.createElement('div');\n",
              "        docLink.innerHTML = docLinkHtml;\n",
              "        element.appendChild(docLink);\n",
              "      }\n",
              "    </script>\n",
              "  </div>\n",
              "\n",
              "\n",
              "<div id=\"df-4d583cd2-963a-43a4-9204-f033dac4ca81\">\n",
              "  <button class=\"colab-df-quickchart\" onclick=\"quickchart('df-4d583cd2-963a-43a4-9204-f033dac4ca81')\"\n",
              "            title=\"Suggest charts.\"\n",
              "            style=\"display:none;\">\n",
              "\n",
              "<svg xmlns=\"http://www.w3.org/2000/svg\" height=\"24px\"viewBox=\"0 0 24 24\"\n",
              "     width=\"24px\">\n",
              "    <g>\n",
              "        <path d=\"M19 3H5c-1.1 0-2 .9-2 2v14c0 1.1.9 2 2 2h14c1.1 0 2-.9 2-2V5c0-1.1-.9-2-2-2zM9 17H7v-7h2v7zm4 0h-2V7h2v10zm4 0h-2v-4h2v4z\"/>\n",
              "    </g>\n",
              "</svg>\n",
              "  </button>\n",
              "\n",
              "<style>\n",
              "  .colab-df-quickchart {\n",
              "      --bg-color: #E8F0FE;\n",
              "      --fill-color: #1967D2;\n",
              "      --hover-bg-color: #E2EBFA;\n",
              "      --hover-fill-color: #174EA6;\n",
              "      --disabled-fill-color: #AAA;\n",
              "      --disabled-bg-color: #DDD;\n",
              "  }\n",
              "\n",
              "  [theme=dark] .colab-df-quickchart {\n",
              "      --bg-color: #3B4455;\n",
              "      --fill-color: #D2E3FC;\n",
              "      --hover-bg-color: #434B5C;\n",
              "      --hover-fill-color: #FFFFFF;\n",
              "      --disabled-bg-color: #3B4455;\n",
              "      --disabled-fill-color: #666;\n",
              "  }\n",
              "\n",
              "  .colab-df-quickchart {\n",
              "    background-color: var(--bg-color);\n",
              "    border: none;\n",
              "    border-radius: 50%;\n",
              "    cursor: pointer;\n",
              "    display: none;\n",
              "    fill: var(--fill-color);\n",
              "    height: 32px;\n",
              "    padding: 0;\n",
              "    width: 32px;\n",
              "  }\n",
              "\n",
              "  .colab-df-quickchart:hover {\n",
              "    background-color: var(--hover-bg-color);\n",
              "    box-shadow: 0 1px 2px rgba(60, 64, 67, 0.3), 0 1px 3px 1px rgba(60, 64, 67, 0.15);\n",
              "    fill: var(--button-hover-fill-color);\n",
              "  }\n",
              "\n",
              "  .colab-df-quickchart-complete:disabled,\n",
              "  .colab-df-quickchart-complete:disabled:hover {\n",
              "    background-color: var(--disabled-bg-color);\n",
              "    fill: var(--disabled-fill-color);\n",
              "    box-shadow: none;\n",
              "  }\n",
              "\n",
              "  .colab-df-spinner {\n",
              "    border: 2px solid var(--fill-color);\n",
              "    border-color: transparent;\n",
              "    border-bottom-color: var(--fill-color);\n",
              "    animation:\n",
              "      spin 1s steps(1) infinite;\n",
              "  }\n",
              "\n",
              "  @keyframes spin {\n",
              "    0% {\n",
              "      border-color: transparent;\n",
              "      border-bottom-color: var(--fill-color);\n",
              "      border-left-color: var(--fill-color);\n",
              "    }\n",
              "    20% {\n",
              "      border-color: transparent;\n",
              "      border-left-color: var(--fill-color);\n",
              "      border-top-color: var(--fill-color);\n",
              "    }\n",
              "    30% {\n",
              "      border-color: transparent;\n",
              "      border-left-color: var(--fill-color);\n",
              "      border-top-color: var(--fill-color);\n",
              "      border-right-color: var(--fill-color);\n",
              "    }\n",
              "    40% {\n",
              "      border-color: transparent;\n",
              "      border-right-color: var(--fill-color);\n",
              "      border-top-color: var(--fill-color);\n",
              "    }\n",
              "    60% {\n",
              "      border-color: transparent;\n",
              "      border-right-color: var(--fill-color);\n",
              "    }\n",
              "    80% {\n",
              "      border-color: transparent;\n",
              "      border-right-color: var(--fill-color);\n",
              "      border-bottom-color: var(--fill-color);\n",
              "    }\n",
              "    90% {\n",
              "      border-color: transparent;\n",
              "      border-bottom-color: var(--fill-color);\n",
              "    }\n",
              "  }\n",
              "</style>\n",
              "\n",
              "  <script>\n",
              "    async function quickchart(key) {\n",
              "      const quickchartButtonEl =\n",
              "        document.querySelector('#' + key + ' button');\n",
              "      quickchartButtonEl.disabled = true;  // To prevent multiple clicks.\n",
              "      quickchartButtonEl.classList.add('colab-df-spinner');\n",
              "      try {\n",
              "        const charts = await google.colab.kernel.invokeFunction(\n",
              "            'suggestCharts', [key], {});\n",
              "      } catch (error) {\n",
              "        console.error('Error during call to suggestCharts:', error);\n",
              "      }\n",
              "      quickchartButtonEl.classList.remove('colab-df-spinner');\n",
              "      quickchartButtonEl.classList.add('colab-df-quickchart-complete');\n",
              "    }\n",
              "    (() => {\n",
              "      let quickchartButtonEl =\n",
              "        document.querySelector('#df-4d583cd2-963a-43a4-9204-f033dac4ca81 button');\n",
              "      quickchartButtonEl.style.display =\n",
              "        google.colab.kernel.accessAllowed ? 'block' : 'none';\n",
              "    })();\n",
              "  </script>\n",
              "</div>\n",
              "    </div>\n",
              "  </div>\n"
            ]
          },
          "metadata": {},
          "execution_count": 3
        }
      ]
    },
    {
      "cell_type": "code",
      "source": [
        "df.info()"
      ],
      "metadata": {
        "colab": {
          "base_uri": "https://localhost:8080/"
        },
        "id": "uP5zjTUvtQ0c",
        "outputId": "41a54f0f-7b58-4b43-d7f3-6ab823b9cbb6"
      },
      "execution_count": 4,
      "outputs": [
        {
          "output_type": "stream",
          "name": "stdout",
          "text": [
            "<class 'pandas.core.frame.DataFrame'>\n",
            "RangeIndex: 4101 entries, 0 to 4100\n",
            "Data columns (total 27 columns):\n",
            " #   Column   Non-Null Count  Dtype \n",
            "---  ------   --------------  ----- \n",
            " 0   Date     4101 non-null   object\n",
            " 1   Label    4101 non-null   int64 \n",
            " 2   News 1   4101 non-null   object\n",
            " 3   News 2   4101 non-null   object\n",
            " 4   News 3   4101 non-null   object\n",
            " 5   News 4   4101 non-null   object\n",
            " 6   News 5   4101 non-null   object\n",
            " 7   News 6   4101 non-null   object\n",
            " 8   News 7   4101 non-null   object\n",
            " 9   News 8   4101 non-null   object\n",
            " 10  News 9   4101 non-null   object\n",
            " 11  News 10  4101 non-null   object\n",
            " 12  News 11  4101 non-null   object\n",
            " 13  News 12  4101 non-null   object\n",
            " 14  News 13  4101 non-null   object\n",
            " 15  News 14  4101 non-null   object\n",
            " 16  News 15  4101 non-null   object\n",
            " 17  News 16  4101 non-null   object\n",
            " 18  News 17  4101 non-null   object\n",
            " 19  News 18  4101 non-null   object\n",
            " 20  News 19  4101 non-null   object\n",
            " 21  News 20  4101 non-null   object\n",
            " 22  News 21  4101 non-null   object\n",
            " 23  News 22  4101 non-null   object\n",
            " 24  News 23  4100 non-null   object\n",
            " 25  News 24  4098 non-null   object\n",
            " 26  News 25  4098 non-null   object\n",
            "dtypes: int64(1), object(26)\n",
            "memory usage: 865.2+ KB\n"
          ]
        }
      ]
    },
    {
      "cell_type": "code",
      "source": [
        "df.describe()"
      ],
      "metadata": {
        "colab": {
          "base_uri": "https://localhost:8080/",
          "height": 300
        },
        "id": "09gnD6y0tWUY",
        "outputId": "84f70225-de74-4d68-d7d3-667e3bcbd09e"
      },
      "execution_count": 5,
      "outputs": [
        {
          "output_type": "execute_result",
          "data": {
            "text/plain": [
              "             Label\n",
              "count  4101.000000\n",
              "mean      0.528164\n",
              "std       0.499267\n",
              "min       0.000000\n",
              "25%       0.000000\n",
              "50%       1.000000\n",
              "75%       1.000000\n",
              "max       1.000000"
            ],
            "text/html": [
              "\n",
              "  <div id=\"df-e731532b-ef32-4dc6-94ea-ef963781833e\" class=\"colab-df-container\">\n",
              "    <div>\n",
              "<style scoped>\n",
              "    .dataframe tbody tr th:only-of-type {\n",
              "        vertical-align: middle;\n",
              "    }\n",
              "\n",
              "    .dataframe tbody tr th {\n",
              "        vertical-align: top;\n",
              "    }\n",
              "\n",
              "    .dataframe thead th {\n",
              "        text-align: right;\n",
              "    }\n",
              "</style>\n",
              "<table border=\"1\" class=\"dataframe\">\n",
              "  <thead>\n",
              "    <tr style=\"text-align: right;\">\n",
              "      <th></th>\n",
              "      <th>Label</th>\n",
              "    </tr>\n",
              "  </thead>\n",
              "  <tbody>\n",
              "    <tr>\n",
              "      <th>count</th>\n",
              "      <td>4101.000000</td>\n",
              "    </tr>\n",
              "    <tr>\n",
              "      <th>mean</th>\n",
              "      <td>0.528164</td>\n",
              "    </tr>\n",
              "    <tr>\n",
              "      <th>std</th>\n",
              "      <td>0.499267</td>\n",
              "    </tr>\n",
              "    <tr>\n",
              "      <th>min</th>\n",
              "      <td>0.000000</td>\n",
              "    </tr>\n",
              "    <tr>\n",
              "      <th>25%</th>\n",
              "      <td>0.000000</td>\n",
              "    </tr>\n",
              "    <tr>\n",
              "      <th>50%</th>\n",
              "      <td>1.000000</td>\n",
              "    </tr>\n",
              "    <tr>\n",
              "      <th>75%</th>\n",
              "      <td>1.000000</td>\n",
              "    </tr>\n",
              "    <tr>\n",
              "      <th>max</th>\n",
              "      <td>1.000000</td>\n",
              "    </tr>\n",
              "  </tbody>\n",
              "</table>\n",
              "</div>\n",
              "    <div class=\"colab-df-buttons\">\n",
              "\n",
              "  <div class=\"colab-df-container\">\n",
              "    <button class=\"colab-df-convert\" onclick=\"convertToInteractive('df-e731532b-ef32-4dc6-94ea-ef963781833e')\"\n",
              "            title=\"Convert this dataframe to an interactive table.\"\n",
              "            style=\"display:none;\">\n",
              "\n",
              "  <svg xmlns=\"http://www.w3.org/2000/svg\" height=\"24px\" viewBox=\"0 -960 960 960\">\n",
              "    <path d=\"M120-120v-720h720v720H120Zm60-500h600v-160H180v160Zm220 220h160v-160H400v160Zm0 220h160v-160H400v160ZM180-400h160v-160H180v160Zm440 0h160v-160H620v160ZM180-180h160v-160H180v160Zm440 0h160v-160H620v160Z\"/>\n",
              "  </svg>\n",
              "    </button>\n",
              "\n",
              "  <style>\n",
              "    .colab-df-container {\n",
              "      display:flex;\n",
              "      gap: 12px;\n",
              "    }\n",
              "\n",
              "    .colab-df-convert {\n",
              "      background-color: #E8F0FE;\n",
              "      border: none;\n",
              "      border-radius: 50%;\n",
              "      cursor: pointer;\n",
              "      display: none;\n",
              "      fill: #1967D2;\n",
              "      height: 32px;\n",
              "      padding: 0 0 0 0;\n",
              "      width: 32px;\n",
              "    }\n",
              "\n",
              "    .colab-df-convert:hover {\n",
              "      background-color: #E2EBFA;\n",
              "      box-shadow: 0px 1px 2px rgba(60, 64, 67, 0.3), 0px 1px 3px 1px rgba(60, 64, 67, 0.15);\n",
              "      fill: #174EA6;\n",
              "    }\n",
              "\n",
              "    .colab-df-buttons div {\n",
              "      margin-bottom: 4px;\n",
              "    }\n",
              "\n",
              "    [theme=dark] .colab-df-convert {\n",
              "      background-color: #3B4455;\n",
              "      fill: #D2E3FC;\n",
              "    }\n",
              "\n",
              "    [theme=dark] .colab-df-convert:hover {\n",
              "      background-color: #434B5C;\n",
              "      box-shadow: 0px 1px 3px 1px rgba(0, 0, 0, 0.15);\n",
              "      filter: drop-shadow(0px 1px 2px rgba(0, 0, 0, 0.3));\n",
              "      fill: #FFFFFF;\n",
              "    }\n",
              "  </style>\n",
              "\n",
              "    <script>\n",
              "      const buttonEl =\n",
              "        document.querySelector('#df-e731532b-ef32-4dc6-94ea-ef963781833e button.colab-df-convert');\n",
              "      buttonEl.style.display =\n",
              "        google.colab.kernel.accessAllowed ? 'block' : 'none';\n",
              "\n",
              "      async function convertToInteractive(key) {\n",
              "        const element = document.querySelector('#df-e731532b-ef32-4dc6-94ea-ef963781833e');\n",
              "        const dataTable =\n",
              "          await google.colab.kernel.invokeFunction('convertToInteractive',\n",
              "                                                    [key], {});\n",
              "        if (!dataTable) return;\n",
              "\n",
              "        const docLinkHtml = 'Like what you see? Visit the ' +\n",
              "          '<a target=\"_blank\" href=https://colab.research.google.com/notebooks/data_table.ipynb>data table notebook</a>'\n",
              "          + ' to learn more about interactive tables.';\n",
              "        element.innerHTML = '';\n",
              "        dataTable['output_type'] = 'display_data';\n",
              "        await google.colab.output.renderOutput(dataTable, element);\n",
              "        const docLink = document.createElement('div');\n",
              "        docLink.innerHTML = docLinkHtml;\n",
              "        element.appendChild(docLink);\n",
              "      }\n",
              "    </script>\n",
              "  </div>\n",
              "\n",
              "\n",
              "<div id=\"df-7c35af51-ed9a-4e12-bc3c-cd4f2f51ca71\">\n",
              "  <button class=\"colab-df-quickchart\" onclick=\"quickchart('df-7c35af51-ed9a-4e12-bc3c-cd4f2f51ca71')\"\n",
              "            title=\"Suggest charts.\"\n",
              "            style=\"display:none;\">\n",
              "\n",
              "<svg xmlns=\"http://www.w3.org/2000/svg\" height=\"24px\"viewBox=\"0 0 24 24\"\n",
              "     width=\"24px\">\n",
              "    <g>\n",
              "        <path d=\"M19 3H5c-1.1 0-2 .9-2 2v14c0 1.1.9 2 2 2h14c1.1 0 2-.9 2-2V5c0-1.1-.9-2-2-2zM9 17H7v-7h2v7zm4 0h-2V7h2v10zm4 0h-2v-4h2v4z\"/>\n",
              "    </g>\n",
              "</svg>\n",
              "  </button>\n",
              "\n",
              "<style>\n",
              "  .colab-df-quickchart {\n",
              "      --bg-color: #E8F0FE;\n",
              "      --fill-color: #1967D2;\n",
              "      --hover-bg-color: #E2EBFA;\n",
              "      --hover-fill-color: #174EA6;\n",
              "      --disabled-fill-color: #AAA;\n",
              "      --disabled-bg-color: #DDD;\n",
              "  }\n",
              "\n",
              "  [theme=dark] .colab-df-quickchart {\n",
              "      --bg-color: #3B4455;\n",
              "      --fill-color: #D2E3FC;\n",
              "      --hover-bg-color: #434B5C;\n",
              "      --hover-fill-color: #FFFFFF;\n",
              "      --disabled-bg-color: #3B4455;\n",
              "      --disabled-fill-color: #666;\n",
              "  }\n",
              "\n",
              "  .colab-df-quickchart {\n",
              "    background-color: var(--bg-color);\n",
              "    border: none;\n",
              "    border-radius: 50%;\n",
              "    cursor: pointer;\n",
              "    display: none;\n",
              "    fill: var(--fill-color);\n",
              "    height: 32px;\n",
              "    padding: 0;\n",
              "    width: 32px;\n",
              "  }\n",
              "\n",
              "  .colab-df-quickchart:hover {\n",
              "    background-color: var(--hover-bg-color);\n",
              "    box-shadow: 0 1px 2px rgba(60, 64, 67, 0.3), 0 1px 3px 1px rgba(60, 64, 67, 0.15);\n",
              "    fill: var(--button-hover-fill-color);\n",
              "  }\n",
              "\n",
              "  .colab-df-quickchart-complete:disabled,\n",
              "  .colab-df-quickchart-complete:disabled:hover {\n",
              "    background-color: var(--disabled-bg-color);\n",
              "    fill: var(--disabled-fill-color);\n",
              "    box-shadow: none;\n",
              "  }\n",
              "\n",
              "  .colab-df-spinner {\n",
              "    border: 2px solid var(--fill-color);\n",
              "    border-color: transparent;\n",
              "    border-bottom-color: var(--fill-color);\n",
              "    animation:\n",
              "      spin 1s steps(1) infinite;\n",
              "  }\n",
              "\n",
              "  @keyframes spin {\n",
              "    0% {\n",
              "      border-color: transparent;\n",
              "      border-bottom-color: var(--fill-color);\n",
              "      border-left-color: var(--fill-color);\n",
              "    }\n",
              "    20% {\n",
              "      border-color: transparent;\n",
              "      border-left-color: var(--fill-color);\n",
              "      border-top-color: var(--fill-color);\n",
              "    }\n",
              "    30% {\n",
              "      border-color: transparent;\n",
              "      border-left-color: var(--fill-color);\n",
              "      border-top-color: var(--fill-color);\n",
              "      border-right-color: var(--fill-color);\n",
              "    }\n",
              "    40% {\n",
              "      border-color: transparent;\n",
              "      border-right-color: var(--fill-color);\n",
              "      border-top-color: var(--fill-color);\n",
              "    }\n",
              "    60% {\n",
              "      border-color: transparent;\n",
              "      border-right-color: var(--fill-color);\n",
              "    }\n",
              "    80% {\n",
              "      border-color: transparent;\n",
              "      border-right-color: var(--fill-color);\n",
              "      border-bottom-color: var(--fill-color);\n",
              "    }\n",
              "    90% {\n",
              "      border-color: transparent;\n",
              "      border-bottom-color: var(--fill-color);\n",
              "    }\n",
              "  }\n",
              "</style>\n",
              "\n",
              "  <script>\n",
              "    async function quickchart(key) {\n",
              "      const quickchartButtonEl =\n",
              "        document.querySelector('#' + key + ' button');\n",
              "      quickchartButtonEl.disabled = true;  // To prevent multiple clicks.\n",
              "      quickchartButtonEl.classList.add('colab-df-spinner');\n",
              "      try {\n",
              "        const charts = await google.colab.kernel.invokeFunction(\n",
              "            'suggestCharts', [key], {});\n",
              "      } catch (error) {\n",
              "        console.error('Error during call to suggestCharts:', error);\n",
              "      }\n",
              "      quickchartButtonEl.classList.remove('colab-df-spinner');\n",
              "      quickchartButtonEl.classList.add('colab-df-quickchart-complete');\n",
              "    }\n",
              "    (() => {\n",
              "      let quickchartButtonEl =\n",
              "        document.querySelector('#df-7c35af51-ed9a-4e12-bc3c-cd4f2f51ca71 button');\n",
              "      quickchartButtonEl.style.display =\n",
              "        google.colab.kernel.accessAllowed ? 'block' : 'none';\n",
              "    })();\n",
              "  </script>\n",
              "</div>\n",
              "    </div>\n",
              "  </div>\n"
            ]
          },
          "metadata": {},
          "execution_count": 5
        }
      ]
    },
    {
      "cell_type": "code",
      "source": [
        "df.shape"
      ],
      "metadata": {
        "colab": {
          "base_uri": "https://localhost:8080/"
        },
        "id": "sipOtaXitbwU",
        "outputId": "2406ecf4-a1fa-4090-8754-90174f16f9ec"
      },
      "execution_count": 6,
      "outputs": [
        {
          "output_type": "execute_result",
          "data": {
            "text/plain": [
              "(4101, 27)"
            ]
          },
          "metadata": {},
          "execution_count": 6
        }
      ]
    },
    {
      "cell_type": "code",
      "source": [
        "df.columns"
      ],
      "metadata": {
        "colab": {
          "base_uri": "https://localhost:8080/"
        },
        "id": "_7yl7og2tfNd",
        "outputId": "d60400f5-1ffc-472d-945e-1b02e02d8969"
      },
      "execution_count": 7,
      "outputs": [
        {
          "output_type": "execute_result",
          "data": {
            "text/plain": [
              "Index(['Date', 'Label', 'News 1', 'News 2', 'News 3', 'News 4', 'News 5',\n",
              "       'News 6', 'News 7', 'News 8', 'News 9', 'News 10', 'News 11', 'News 12',\n",
              "       'News 13', 'News 14', 'News 15', 'News 16', 'News 17', 'News 18',\n",
              "       'News 19', 'News 20', 'News 21', 'News 22', 'News 23', 'News 24',\n",
              "       'News 25'],\n",
              "      dtype='object')"
            ]
          },
          "metadata": {},
          "execution_count": 7
        }
      ]
    },
    {
      "cell_type": "code",
      "source": [
        "import matplotlib.pyplot as plt\n",
        "import pandas as pd\n",
        "\n",
        "label_counts = df.groupby(['Date', 'Label']).size().unstack()\n",
        "\n",
        "label_counts.plot(kind='line', marker='o')\n",
        "plt.title('Label Frequency over Time')\n",
        "plt.xlabel('Date')\n",
        "plt.ylabel('Frequency')\n",
        "\n",
        "plt.legend()\n",
        "plt.show()"
      ],
      "metadata": {
        "colab": {
          "base_uri": "https://localhost:8080/",
          "height": 472
        },
        "id": "ElNqh9D-v2Xb",
        "outputId": "2f4451ee-61fb-4e1e-d121-0826c9354fe2"
      },
      "execution_count": 8,
      "outputs": [
        {
          "output_type": "display_data",
          "data": {
            "text/plain": [
              "<Figure size 640x480 with 1 Axes>"
            ],
            "image/png": "[encoded data removed]"
          },
          "metadata": {}
        }
      ]
    },
    {
      "cell_type": "code",
      "source": [
        "''.join(str(x) for x in df.iloc[1,2:27])\n"
      ],
      "metadata": {
        "colab": {
          "base_uri": "https://localhost:8080/",
          "height": 87
        },
        "id": "j-I5eI-otZ6s",
        "outputId": "c22a070b-035a-4dd8-da71-4bbeaae313c9"
      },
      "execution_count": 9,
      "outputs": [
        {
          "output_type": "execute_result",
          "data": {
            "text/plain": [
              "\"Warning from history points to crashInvestors flee to dollar havenBanks and tobacco in favourReview: Llama FarmersWar jitters lead to sell-offYour not-so-secret historyReview: The Northern SinfoniaReview: HysteriaReview: The GuardsmanOpera: The Marriage of FigaroReview: The Turk in ItalyDeutsche spells out its plans for diversificationTraders' panic sends oil prices skywardTV sport chief leaves home over romanceLeader: Hi-tech twitchWhy Wenger will stick to his GunnersOut of luck England hit rock bottomWilkinson out of his depthKinsella sparks Irish power playBrown banished as Scots reboundBattling Wales cling to lifelineEhiogu close to sealing Boro moveMan-to-man markingMatch statsFrench referee at centre of storm is no stranger to controversy\""
            ],
            "application/vnd.google.colaboratory.intrinsic+json": {
              "type": "string"
            }
          },
          "metadata": {},
          "execution_count": 9
        }
      ]
    },
    {
      "cell_type": "code",
      "source": [
        "df.index"
      ],
      "metadata": {
        "colab": {
          "base_uri": "https://localhost:8080/"
        },
        "id": "1TUh3H8gt1Wt",
        "outputId": "65509cfd-7a64-4011-dd7d-b836a124c13c"
      },
      "execution_count": 10,
      "outputs": [
        {
          "output_type": "execute_result",
          "data": {
            "text/plain": [
              "RangeIndex(start=0, stop=4101, step=1)"
            ]
          },
          "metadata": {},
          "execution_count": 10
        }
      ]
    },
    {
      "cell_type": "code",
      "source": [
        "len(df.index)"
      ],
      "metadata": {
        "colab": {
          "base_uri": "https://localhost:8080/"
        },
        "id": "zzsoaN5Wt5JK",
        "outputId": "b44b1e18-cf9e-4ef4-c4a9-dc21b4ae3079"
      },
      "execution_count": 11,
      "outputs": [
        {
          "output_type": "execute_result",
          "data": {
            "text/plain": [
              "4101"
            ]
          },
          "metadata": {},
          "execution_count": 11
        }
      ]
    },
    {
      "cell_type": "code",
      "source": [
        "news = []\n",
        "for row in range(0,len(df.index)):\n",
        "  news.append(''.join(str(x) for x in df.iloc[row,2:27]))"
      ],
      "metadata": {
        "id": "1gzaCpPWt8qD"
      },
      "execution_count": 12,
      "outputs": []
    },
    {
      "cell_type": "code",
      "source": [
        "type(news)"
      ],
      "metadata": {
        "id": "2JxB7MOPuAWK",
        "outputId": "a472ecdb-e798-4adb-e444-e2244c2f81d9",
        "colab": {
          "base_uri": "https://localhost:8080/"
        }
      },
      "execution_count": 13,
      "outputs": [
        {
          "output_type": "execute_result",
          "data": {
            "text/plain": [
              "list"
            ]
          },
          "metadata": {},
          "execution_count": 13
        }
      ]
    },
    {
      "cell_type": "code",
      "source": [
        "news[0]"
      ],
      "metadata": {
        "id": "cW-kl-SquD0v",
        "colab": {
          "base_uri": "https://localhost:8080/",
          "height": 87
        },
        "outputId": "be85252d-cc98-41c8-9fc2-f24121c452ad"
      },
      "execution_count": 14,
      "outputs": [
        {
          "output_type": "execute_result",
          "data": {
            "text/plain": [
              "\"McIlroy's men catch cold from GudjonssonObituary: Brian WalshWorkplace blues leave employers in the redClassical review: RattleDance review: Merce CunninghamGenetic tests to be used in setting premiumsOpera review: La BohèmePop review: Britney SpearsTheatre review: The CircleWales face a fraught nightUnder-21  round-upSmith off to blot his copybookFinns taking the mickeyPraise wasted as Brown studies injury optionsIreland wary of minnowsFinland 0 - 0 EnglandHealy a marked manHappy birthday Harpers & QueenWin unlimited access to the Raindance film festivalLabour pledges £800m to bridge north-south divideWales: Lib-Lab pact firm despite resignationDonald DewarRegenerating homes  regenerates well-being in peopleWin £100 worth of underwearTV guide: Random views\""
            ],
            "application/vnd.google.colaboratory.intrinsic+json": {
              "type": "string"
            }
          },
          "metadata": {},
          "execution_count": 14
        }
      ]
    },
    {
      "cell_type": "code",
      "source": [
        "x = news"
      ],
      "metadata": {
        "id": "HZTztUX2ueMF"
      },
      "execution_count": 15,
      "outputs": []
    },
    {
      "cell_type": "code",
      "source": [
        "type(x)\n"
      ],
      "metadata": {
        "colab": {
          "base_uri": "https://localhost:8080/"
        },
        "id": "-HtA2cb-uiP9",
        "outputId": "4ba0e84b-6542-4c67-df9d-295205a4b5dd"
      },
      "execution_count": 16,
      "outputs": [
        {
          "output_type": "execute_result",
          "data": {
            "text/plain": [
              "list"
            ]
          },
          "metadata": {},
          "execution_count": 16
        }
      ]
    },
    {
      "cell_type": "code",
      "source": [
        "from sklearn.feature_extraction.text import CountVectorizer"
      ],
      "metadata": {
        "id": "Hnu1B9VZuliy"
      },
      "execution_count": 17,
      "outputs": []
    },
    {
      "cell_type": "code",
      "source": [
        "cv = CountVectorizer(lowercase = True, ngram_range=(1,1))"
      ],
      "metadata": {
        "id": "AMNr9RO2ur54"
      },
      "execution_count": 18,
      "outputs": []
    },
    {
      "cell_type": "code",
      "source": [
        "x = cv.fit_transform(x)"
      ],
      "metadata": {
        "id": "O9O9knoDuvxC"
      },
      "execution_count": 19,
      "outputs": []
    },
    {
      "cell_type": "code",
      "source": [
        "x.shape"
      ],
      "metadata": {
        "colab": {
          "base_uri": "https://localhost:8080/"
        },
        "id": "yuaV-DRsuzHC",
        "outputId": "dba42824-e65e-4af4-c99a-e41d89ad17c0"
      },
      "execution_count": 20,
      "outputs": [
        {
          "output_type": "execute_result",
          "data": {
            "text/plain": [
              "(4101, 108682)"
            ]
          },
          "metadata": {},
          "execution_count": 20
        }
      ]
    },
    {
      "cell_type": "code",
      "source": [
        "y = df['Label']"
      ],
      "metadata": {
        "id": "Sfl4O-X5u3-R"
      },
      "execution_count": 21,
      "outputs": []
    },
    {
      "cell_type": "code",
      "source": [
        "y.shape"
      ],
      "metadata": {
        "colab": {
          "base_uri": "https://localhost:8080/"
        },
        "id": "Hyviyy13u8To",
        "outputId": "43abd522-44c9-4bea-e58e-03099ba37050"
      },
      "execution_count": 22,
      "outputs": [
        {
          "output_type": "execute_result",
          "data": {
            "text/plain": [
              "(4101,)"
            ]
          },
          "metadata": {},
          "execution_count": 22
        }
      ]
    },
    {
      "cell_type": "code",
      "source": [
        "from sklearn.model_selection import train_test_split\n",
        "x_train, x_test, y_train,y_test = train_test_split(x,y,test_size = 0.3,stratify = y, random_state = 2529)\n",
        "from sklearn.ensemble import RandomForestClassifier\n",
        "rf = RandomForestClassifier(n_estimators=200)"
      ],
      "metadata": {
        "id": "TUQ99sdfvAR6"
      },
      "execution_count": 23,
      "outputs": []
    },
    {
      "cell_type": "code",
      "source": [
        "rf.fit(x_train, y_train)"
      ],
      "metadata": {
        "colab": {
          "base_uri": "https://localhost:8080/",
          "height": 75
        },
        "id": "tEjfXnP4vEEp",
        "outputId": "5837b85a-ee95-4aa1-b9ed-b988d4861d51"
      },
      "execution_count": 24,
      "outputs": [
        {
          "output_type": "execute_result",
          "data": {
            "text/plain": [
              "RandomForestClassifier(n_estimators=200)"
            ],
            "text/html": [
              "<style>#sk-container-id-1 {color: black;background-color: white;}#sk-container-id-1 pre{padding: 0;}#sk-container-id-1 div.sk-toggleable {background-color: white;}#sk-container-id-1 label.sk-toggleable__label {cursor: pointer;display: block;width: 100%;margin-bottom: 0;padding: 0.3em;box-sizing: border-box;text-align: center;}#sk-container-id-1 label.sk-toggleable__label-arrow:before {content: \"▸\";float: left;margin-right: 0.25em;color: #696969;}#sk-container-id-1 label.sk-toggleable__label-arrow:hover:before {color: black;}#sk-container-id-1 div.sk-estimator:hover label.sk-toggleable__label-arrow:before {color: black;}#sk-container-id-1 div.sk-toggleable__content {max-height: 0;max-width: 0;overflow: hidden;text-align: left;background-color: #f0f8ff;}#sk-container-id-1 div.sk-toggleable__content pre {margin: 0.2em;color: black;border-radius: 0.25em;background-color: #f0f8ff;}#sk-container-id-1 input.sk-toggleable__control:checked~div.sk-toggleable__content {max-height: 200px;max-width: 100%;overflow: auto;}#sk-container-id-1 input.sk-toggleable__control:checked~label.sk-toggleable__label-arrow:before {content: \"▾\";}#sk-container-id-1 div.sk-estimator input.sk-toggleable__control:checked~label.sk-toggleable__label {background-color: #d4ebff;}#sk-container-id-1 div.sk-label input.sk-toggleable__control:checked~label.sk-toggleable__label {background-color: #d4ebff;}#sk-container-id-1 input.sk-hidden--visually {border: 0;clip: rect(1px 1px 1px 1px);clip: rect(1px, 1px, 1px, 1px);height: 1px;margin: -1px;overflow: hidden;padding: 0;position: absolute;width: 1px;}#sk-container-id-1 div.sk-estimator {font-family: monospace;background-color: #f0f8ff;border: 1px dotted black;border-radius: 0.25em;box-sizing: border-box;margin-bottom: 0.5em;}#sk-container-id-1 div.sk-estimator:hover {background-color: #d4ebff;}#sk-container-id-1 div.sk-parallel-item::after {content: \"\";width: 100%;border-bottom: 1px solid gray;flex-grow: 1;}#sk-container-id-1 div.sk-label:hover label.sk-toggleable__label {background-color: #d4ebff;}#sk-container-id-1 div.sk-serial::before {content: \"\";position: absolute;border-left: 1px solid gray;box-sizing: border-box;top: 0;bottom: 0;left: 50%;z-index: 0;}#sk-container-id-1 div.sk-serial {display: flex;flex-direction: column;align-items: center;background-color: white;padding-right: 0.2em;padding-left: 0.2em;position: relative;}#sk-container-id-1 div.sk-item {position: relative;z-index: 1;}#sk-container-id-1 div.sk-parallel {display: flex;align-items: stretch;justify-content: center;background-color: white;position: relative;}#sk-container-id-1 div.sk-item::before, #sk-container-id-1 div.sk-parallel-item::before {content: \"\";position: absolute;border-left: 1px solid gray;box-sizing: border-box;top: 0;bottom: 0;left: 50%;z-index: -1;}#sk-container-id-1 div.sk-parallel-item {display: flex;flex-direction: column;z-index: 1;position: relative;background-color: white;}#sk-container-id-1 div.sk-parallel-item:first-child::after {align-self: flex-end;width: 50%;}#sk-container-id-1 div.sk-parallel-item:last-child::after {align-self: flex-start;width: 50%;}#sk-container-id-1 div.sk-parallel-item:only-child::after {width: 0;}#sk-container-id-1 div.sk-dashed-wrapped {border: 1px dashed gray;margin: 0 0.4em 0.5em 0.4em;box-sizing: border-box;padding-bottom: 0.4em;background-color: white;}#sk-container-id-1 div.sk-label label {font-family: monospace;font-weight: bold;display: inline-block;line-height: 1.2em;}#sk-container-id-1 div.sk-label-container {text-align: center;}#sk-container-id-1 div.sk-container {/* jupyter's `normalize.less` sets `[hidden] { display: none; }` but bootstrap.min.css set `[hidden] { display: none !important; }` so we also need the `!important` here to be able to override the default hidden behavior on the sphinx rendered scikit-learn.org. See: https://github.com/scikit-learn/scikit-learn/issues/21755 */display: inline-block !important;position: relative;}#sk-container-id-1 div.sk-text-repr-fallback {display: none;}</style><div id=\"sk-container-id-1\" class=\"sk-top-container\"><div class=\"sk-text-repr-fallback\"><pre>RandomForestClassifier(n_estimators=200)</pre><b>In a Jupyter environment, please rerun this cell to show the HTML representation or trust the notebook. <br />On GitHub, the HTML representation is unable to render, please try loading this page with nbviewer.org.</b></div><div class=\"sk-container\" hidden><div class=\"sk-item\"><div class=\"sk-estimator sk-toggleable\"><input class=\"sk-toggleable__control sk-hidden--visually\" id=\"sk-estimator-id-1\" type=\"checkbox\" checked><label for=\"sk-estimator-id-1\" class=\"sk-toggleable__label sk-toggleable__label-arrow\">RandomForestClassifier</label><div class=\"sk-toggleable__content\"><pre>RandomForestClassifier(n_estimators=200)</pre></div></div></div></div></div>"
            ]
          },
          "metadata": {},
          "execution_count": 24
        }
      ]
    },
    {
      "cell_type": "code",
      "source": [
        "y_pred = rf.predict(x_test)"
      ],
      "metadata": {
        "id": "B-e27jkOvSou"
      },
      "execution_count": 25,
      "outputs": []
    },
    {
      "cell_type": "code",
      "source": [
        "from sklearn.metrics import classification_report,confusion_matrix,accuracy_score"
      ],
      "metadata": {
        "id": "WUfmE9b-vXAu"
      },
      "execution_count": 26,
      "outputs": []
    },
    {
      "cell_type": "code",
      "source": [
        "confusion_matrix(y_test, y_pred)"
      ],
      "metadata": {
        "colab": {
          "base_uri": "https://localhost:8080/"
        },
        "id": "Mo2jExUPveYV",
        "outputId": "3c47d781-59a9-4508-94f9-9ba465a11bec"
      },
      "execution_count": 27,
      "outputs": [
        {
          "output_type": "execute_result",
          "data": {
            "text/plain": [
              "array([[110, 471],\n",
              "       [112, 538]])"
            ]
          },
          "metadata": {},
          "execution_count": 27
        }
      ]
    },
    {
      "cell_type": "code",
      "source": [
        "print(classification_report(y_test, y_pred))"
      ],
      "metadata": {
        "colab": {
          "base_uri": "https://localhost:8080/"
        },
        "id": "W4oeRpAoviND",
        "outputId": "770c3463-730b-4dca-bd9f-6a39c40b5afb"
      },
      "execution_count": 28,
      "outputs": [
        {
          "output_type": "stream",
          "name": "stdout",
          "text": [
            "              precision    recall  f1-score   support\n",
            "\n",
            "           0       0.50      0.19      0.27       581\n",
            "           1       0.53      0.83      0.65       650\n",
            "\n",
            "    accuracy                           0.53      1231\n",
            "   macro avg       0.51      0.51      0.46      1231\n",
            "weighted avg       0.52      0.53      0.47      1231\n",
            "\n"
          ]
        }
      ]
    },
    {
      "cell_type": "code",
      "source": [
        "accuracy_score(y_pred,y_test)"
      ],
      "metadata": {
        "colab": {
          "base_uri": "https://localhost:8080/"
        },
        "id": "KkXDZGLjvl5G",
        "outputId": "516d9855-5b46-4153-ecb7-7b037054f002"
      },
      "execution_count": 29,
      "outputs": [
        {
          "output_type": "execute_result",
          "data": {
            "text/plain": [
              "0.5264012997562957"
            ]
          },
          "metadata": {},
          "execution_count": 29
        }
      ]
    }
  ]
}